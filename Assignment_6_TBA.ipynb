{
 "cells": [
  {
   "cell_type": "markdown",
   "metadata": {},
   "source": [
    "\n",
    "## Importing modules"
   ]
  },
  {
   "cell_type": "code",
   "execution_count": 3,
   "metadata": {},
   "outputs": [],
   "source": [
    "from nltk.corpus import stopwords\n",
    "\n",
    "from nltk.cluster.util import cosine_distance\n",
    "\n",
    "import numpy as np\n",
    "\n",
    "import networkx as nx"
   ]
  },
  {
   "cell_type": "markdown",
   "metadata": {},
   "source": [
    "## Open file and split into sentences"
   ]
  },
  {
   "cell_type": "code",
   "execution_count": 6,
   "metadata": {},
   "outputs": [
    {
     "name": "stdout",
     "output_type": "stream",
     "text": [
      "The Telugu language Indian action epic “RRR” (short for “Rise Roar Revolt”) has returned to US theaters for an exceptional one-night-only engagement on June 1st following its initial theatrical release\n",
      "Some hindsight has made it easy to guess why writer/director S.S\n",
      "Rajamouli has only now broken through to Western audiences with “RRR” despite his consistent box office success\n",
      "Rajamouli’s latest is an anti-colonial fable and buddy drama about the imaginary combo of two real-life freedom fighters, Komaram Bheem (N.T\n",
      "Rama Rao Jr.) and Alluri Sitarama Raju (Ram Charan)\n",
      "“RRR” is also a fine showcase for Rajamouli’s characteristic focus on maximalist action choreography, overwhelming stuntwork and pyrotechnics, and sophisticated computer graphics\n",
      " \n",
      "\n"
     ]
    }
   ],
   "source": [
    "file = open(\"RRR.txt\", \"r\", encoding=\"utf-8\")\n",
    "\n",
    "#This file contains one paragraph of multiple sentences\n",
    "\n",
    "filedata = file.readlines()\n",
    "\n",
    "article = filedata[0].split(\". \") #Just do the first paragraph\n",
    "\n",
    "sentences = []\n",
    "\n",
    "for sentence in article:\n",
    "\n",
    "         print(sentence)\n",
    "\n",
    "         sentences.append(sentence.replace(\"[^a-zA-Z]\", \" \").split(\" \"))"
   ]
  },
  {
   "cell_type": "markdown",
   "metadata": {},
   "source": [
    "## Our data: a list of sentences"
   ]
  },
  {
   "cell_type": "code",
   "execution_count": 7,
   "metadata": {},
   "outputs": [
    {
     "name": "stdout",
     "output_type": "stream",
     "text": [
      "Sentences are  [['The', 'Telugu', 'language', 'Indian', 'action', 'epic', '“RRR”', '(short', 'for', '“Rise', 'Roar', 'Revolt”)', 'has', 'returned', 'to', 'US', 'theaters', 'for', 'an', 'exceptional', 'one-night-only', 'engagement', 'on', 'June', '1st', 'following', 'its', 'initial', 'theatrical', 'release'], ['Some', 'hindsight', 'has', 'made', 'it', 'easy', 'to', 'guess', 'why', 'writer/director', 'S.S'], ['Rajamouli', 'has', 'only', 'now', 'broken', 'through', 'to', 'Western', 'audiences', 'with', '“RRR”', 'despite', 'his', 'consistent', 'box', 'office', 'success'], ['Rajamouli’s', 'latest', 'is', 'an', 'anti-colonial', 'fable', 'and', 'buddy', 'drama', 'about', 'the', 'imaginary', 'combo', 'of', 'two', 'real-life', 'freedom', 'fighters,', 'Komaram', 'Bheem', '(N.T'], ['Rama', 'Rao', 'Jr.)', 'and', 'Alluri', 'Sitarama', 'Raju', '(Ram', 'Charan)'], ['“RRR”', 'is', 'also', 'a', 'fine', 'showcase', 'for', 'Rajamouli’s', 'characteristic', 'focus', 'on', 'maximalist', 'action', 'choreography,', 'overwhelming', 'stuntwork', 'and', 'pyrotechnics,', 'and', 'sophisticated', 'computer', 'graphics'], ['', '\\n']]\n"
     ]
    }
   ],
   "source": [
    "print(\"Sentences are \", sentences)"
   ]
  },
  {
   "cell_type": "markdown",
   "metadata": {},
   "source": [
    "## Function to calculate similarity \n",
    "## (count the number of common words)"
   ]
  },
  {
   "cell_type": "code",
   "execution_count": 8,
   "metadata": {},
   "outputs": [],
   "source": [
    "def sentence_similarity(sent1, sent2 ):\n",
    "\n",
    "    sent1 = [w.lower() for w in sent1]\n",
    "\n",
    "    sent2 = [w.lower() for w in sent2]\n",
    "\n",
    "    all_words = list(set(sent1 + sent2))\n",
    "\n",
    "    vector1 = [0] * len(all_words)\n",
    "\n",
    "    vector2 = [0] * len(all_words)\n",
    "\n",
    "        # build the vector for the first sentence\n",
    "\n",
    "    for w in sent1:\n",
    "\n",
    "         vector1[all_words.index(w)] += 1\n",
    "\n",
    "       # build the vector for the second sentence\n",
    "\n",
    "    for w in sent2:\n",
    "\n",
    "         vector2[all_words.index(w)] += 1\n",
    "\n",
    "    return 1 - cosine_distance(vector1, vector2)"
   ]
  },
  {
   "cell_type": "markdown",
   "metadata": {},
   "source": [
    "## Create the similarity matrix "
   ]
  },
  {
   "cell_type": "code",
   "execution_count": 9,
   "metadata": {},
   "outputs": [
    {
     "name": "stdout",
     "output_type": "stream",
     "text": [
      "Similarity matrix:\n",
      " [[0.         0.10660036 0.12862394 0.07715167 0.         0.18042196\n",
      "  0.        ]\n",
      " [0.10660036 0.         0.14625448 0.         0.         0.\n",
      "  0.        ]\n",
      " [0.12862394 0.14625448 0.         0.         0.         0.04950738\n",
      "  0.        ]\n",
      " [0.07715167 0.         0.         0.         0.0727393  0.17817416\n",
      "  0.        ]\n",
      " [0.         0.         0.         0.0727393  0.         0.13608276\n",
      "  0.        ]\n",
      " [0.18042196 0.         0.04950738 0.17817416 0.13608276 0.\n",
      "  0.        ]\n",
      " [0.         0.         0.         0.         0.         0.\n",
      "  0.        ]]\n"
     ]
    }
   ],
   "source": [
    "similarity_matrix = np.zeros((len(sentences), len(sentences)))\n",
    "for idx1 in range(len(sentences)):\n",
    "    for idx2 in range(len(sentences)):\n",
    "        if idx1 == idx2:  # ignore if both are same sentences\n",
    "            continue\n",
    "        similarity_matrix[idx1][idx2] = sentence_similarity(sentences[idx1], sentences[idx2])\n",
    "\n",
    "print(\"Similarity matrix:\\n\", similarity_matrix)"
   ]
  },
  {
   "cell_type": "markdown",
   "metadata": {},
   "source": [
    "## Get the pagerank scores"
   ]
  },
  {
   "cell_type": "code",
   "execution_count": 10,
   "metadata": {},
   "outputs": [
    {
     "name": "stdout",
     "output_type": "stream",
     "text": [
      "scores {0: 0.21508528044532071, 1: 0.12147617274451285, 2: 0.15013684627817148, 3: 0.14934347854981908, 4: 0.1028513336497258, 5: 0.2367166444300088, 6: 0.024390243902441208}\n"
     ]
    }
   ],
   "source": [
    "# Step 3 - Rank sentences in similarity martix\n",
    "\n",
    "sentence_similarity_graph = nx.from_numpy_array(similarity_matrix)\n",
    "\n",
    "scores = nx.pagerank(sentence_similarity_graph)\n",
    "\n",
    "print(\"scores\", scores)"
   ]
  },
  {
   "cell_type": "markdown",
   "metadata": {},
   "source": [
    "## Sort sentences by pagerank"
   ]
  },
  {
   "cell_type": "code",
   "execution_count": 11,
   "metadata": {},
   "outputs": [
    {
     "name": "stdout",
     "output_type": "stream",
     "text": [
      "Indexes of top ranked_sentence order are \n",
      "\n",
      " [(0.2367166444300088, ['“RRR”', 'is', 'also', 'a', 'fine', 'showcase', 'for', 'Rajamouli’s', 'characteristic', 'focus', 'on', 'maximalist', 'action', 'choreography,', 'overwhelming', 'stuntwork', 'and', 'pyrotechnics,', 'and', 'sophisticated', 'computer', 'graphics']), (0.21508528044532071, ['The', 'Telugu', 'language', 'Indian', 'action', 'epic', '“RRR”', '(short', 'for', '“Rise', 'Roar', 'Revolt”)', 'has', 'returned', 'to', 'US', 'theaters', 'for', 'an', 'exceptional', 'one-night-only', 'engagement', 'on', 'June', '1st', 'following', 'its', 'initial', 'theatrical', 'release']), (0.15013684627817148, ['Rajamouli', 'has', 'only', 'now', 'broken', 'through', 'to', 'Western', 'audiences', 'with', '“RRR”', 'despite', 'his', 'consistent', 'box', 'office', 'success']), (0.14934347854981908, ['Rajamouli’s', 'latest', 'is', 'an', 'anti-colonial', 'fable', 'and', 'buddy', 'drama', 'about', 'the', 'imaginary', 'combo', 'of', 'two', 'real-life', 'freedom', 'fighters,', 'Komaram', 'Bheem', '(N.T']), (0.12147617274451285, ['Some', 'hindsight', 'has', 'made', 'it', 'easy', 'to', 'guess', 'why', 'writer/director', 'S.S']), (0.1028513336497258, ['Rama', 'Rao', 'Jr.)', 'and', 'Alluri', 'Sitarama', 'Raju', '(Ram', 'Charan)']), (0.024390243902441208, ['', '\\n'])]\n"
     ]
    }
   ],
   "source": [
    "# Step 4 - Sort the rank and pick top sentences\n",
    "\n",
    "ranked_sentence = sorted(((scores[i],s) for i,s in enumerate(sentences)), reverse=True)\n",
    "\n",
    "print(\"Indexes of top ranked_sentence order are \\n\\n\",\n",
    "\n",
    "ranked_sentence)"
   ]
  },
  {
   "cell_type": "markdown",
   "metadata": {},
   "source": [
    "## Pick the top “n” sentences"
   ]
  },
  {
   "cell_type": "code",
   "execution_count": 12,
   "metadata": {},
   "outputs": [],
   "source": [
    "#Step 5 - How many sentences to pick\n",
    "\n",
    "n = int(input(\"How many sentences do you want in the summary? \"))\n",
    "\n",
    "#n=2\n",
    "\n",
    "summarize_text = []\n",
    "\n",
    "for i in range(n):\n",
    "\n",
    "      summarize_text.append(\" \".join(ranked_sentence[i][1]))"
   ]
  },
  {
   "cell_type": "markdown",
   "metadata": {},
   "source": [
    "## printing summary"
   ]
  },
  {
   "cell_type": "code",
   "execution_count": 14,
   "metadata": {},
   "outputs": [
    {
     "name": "stdout",
     "output_type": "stream",
     "text": [
      "Summarize Text: \n",
      " “RRR” is also a fine showcase for Rajamouli’s characteristic focus on maximalist action choreography, overwhelming stuntwork and pyrotechnics, and sophisticated computer graphics. The Telugu language Indian action epic “RRR” (short for “Rise Roar Revolt”) has returned to US theaters for an exceptional one-night-only engagement on June 1st following its initial theatrical release. Rajamouli has only now broken through to Western audiences with “RRR” despite his consistent box office success. Rajamouli’s latest is an anti-colonial fable and buddy drama about the imaginary combo of two real-life freedom fighters, Komaram Bheem (N.T. Some hindsight has made it easy to guess why writer/director S.S\n"
     ]
    }
   ],
   "source": [
    "# Step 6 - Offcourse, output the summarize text\n",
    "print(\"Summarize Text: \\n\", \". \".join(summarize_text))"
   ]
  }
 ],
 "metadata": {
  "kernelspec": {
   "display_name": "Python 3",
   "language": "python",
   "name": "python3"
  },
  "language_info": {
   "codemirror_mode": {
    "name": "ipython",
    "version": 3
   },
   "file_extension": ".py",
   "mimetype": "text/x-python",
   "name": "python",
   "nbconvert_exporter": "python",
   "pygments_lexer": "ipython3",
   "version": "3.12.3"
  }
 },
 "nbformat": 4,
 "nbformat_minor": 2
}
